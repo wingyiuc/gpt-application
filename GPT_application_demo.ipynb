{
 "cells": [
  {
   "attachments": {},
   "cell_type": "markdown",
   "metadata": {},
   "source": [
    "# Background\n",
    "\n",
    "We sometimes find ChatGPT amazing, yet sometimes find it bullshiting. However, I found that a lot of people do not know how to maximize the use of ChatGPT with prompt engineering techniques. So I decided to write this simple notebook and demonstrate with a few examples."
   ]
  },
  {
   "attachments": {},
   "cell_type": "markdown",
   "metadata": {},
   "source": [
    "# Import libraries"
   ]
  },
  {
   "cell_type": "code",
   "execution_count": 3,
   "metadata": {},
   "outputs": [],
   "source": [
    "import os\n",
    "import openai\n",
    "from dotenv import load_dotenv\n"
   ]
  },
  {
   "cell_type": "code",
   "execution_count": 4,
   "metadata": {},
   "outputs": [
    {
     "data": {
      "text/plain": [
       "True"
      ]
     },
     "execution_count": 4,
     "metadata": {},
     "output_type": "execute_result"
    }
   ],
   "source": [
    "load_dotenv()\n"
   ]
  },
  {
   "attachments": {},
   "cell_type": "markdown",
   "metadata": {},
   "source": [
    "# API setup"
   ]
  },
  {
   "cell_type": "code",
   "execution_count": 5,
   "metadata": {},
   "outputs": [],
   "source": [
    "# Load your API key from an environment variable or secret management service\n",
    "openai.api_key = os.getenv(\"OPENAI_API_KEY\")\n"
   ]
  },
  {
   "cell_type": "code",
   "execution_count": 6,
   "metadata": {},
   "outputs": [
    {
     "name": "stdout",
     "output_type": "stream",
     "text": [
      "gpt-3.5-turbo-0301\n",
      "gpt-3.5-turbo\n",
      "gpt-4\n",
      "gpt-4-0314\n"
     ]
    }
   ],
   "source": [
    "# Check which models I can use\n",
    "for model in openai.Model.list()['data']:\n",
    "    print(model['id']) if \"gpt\" in model['id'] else \"\"\n"
   ]
  },
  {
   "attachments": {},
   "cell_type": "markdown",
   "metadata": {},
   "source": [
    "## Legal prompting example"
   ]
  },
  {
   "attachments": {},
   "cell_type": "markdown",
   "metadata": {},
   "source": [
    "Reference: https://arxiv.org/abs/2212.01326\n",
    "\n",
    "The below example is from the paper *Legal Prompting: Teaching a Language Model to Think Like a Lawyer*. It demonstrate a type of Chain-of-Thought (CoT) prompting - guiding the GPT to think using a step by step apprach with Issue, Rule, Application and Conclusion"
   ]
  },
  {
   "attachments": {},
   "cell_type": "markdown",
   "metadata": {},
   "source": [
    "Inputs to the model:"
   ]
  },
  {
   "cell_type": "code",
   "execution_count": 7,
   "metadata": {},
   "outputs": [],
   "source": [
    "input_1 = \"You are a professional lawyer.\"\n",
    "input_2 = \"\"\"Please analyze if the hypothesis is True or False according to the given legal reasoning approach. \n",
    "            Reply in one paragraph without excplicitly mentioning about the approach.\"\"\"\n",
    "input_3 = \"\"\"Approach: Issue, rule, application, conclusion.\n",
    "                        Premise: Article 509 The obligor of either of the following obligations may not duly assert a set-off against the obligee\n",
    "                        provided, however, that this does not apply if the obligee acquires a claim corresponding to the relevant obligation from another person:\n",
    "                        (i) an obligation for compensation for loss or damage based on a tort committed in bad faith\n",
    "                        or\n",
    "                        (ii) an obligation for compensation for loss or damage for death or injury to person(excluding the one set forth in the preceding item).\"\"\"\n",
    "input_4 = \"\"\"Hypothesis: If a person that holds a monetary claim has borne an obligation for compensation for loss or damage for injury to the obligor of that monetary claim, \n",
    "            the person may not duly assert against the obligor, \n",
    "            a set- off using the monetary claim against the obligation for compensation. True or False?\"\"\"\n"
   ]
  },
  {
   "attachments": {},
   "cell_type": "markdown",
   "metadata": {},
   "source": [
    "Calling the API"
   ]
  },
  {
   "cell_type": "code",
   "execution_count": 8,
   "metadata": {},
   "outputs": [],
   "source": [
    "response = openai.ChatCompletion.create(\n",
    "    model=\"gpt-4\",\n",
    "    messages=[\n",
    "        {\"role\": \"system\", \"content\": input_1},\n",
    "        {\"role\": \"user\", \"content\": input_2},\n",
    "        {\"role\": \"assistant\",\n",
    "            \"content\": input_3},\n",
    "        {\"role\": \"user\", \"content\": input_4}\n",
    "    ]\n",
    ")\n"
   ]
  },
  {
   "attachments": {},
   "cell_type": "markdown",
   "metadata": {},
   "source": [
    "Displaying the results"
   ]
  },
  {
   "cell_type": "code",
   "execution_count": 9,
   "metadata": {},
   "outputs": [
    {
     "name": "stdout",
     "output_type": "stream",
     "text": [
      "After analyzing the given hypothesis with the legal reasoning approach, it can be concluded that the hypothesis is True. According to Article 509, the obligor of an obligation for compensation for loss or damage for injury to a person may not duly assert a set-off against the obligee, unless the obligee acquires a corresponding claim from another person. In the given hypothesis, the person who holds a monetary claim bears an obligation for compensation for loss or damage for injury to the obligor of that monetary claim; therefore, they cannot duly assert a set-off using the monetary claim against the obligation for compensation, as it falls under the exception provided in the rule.\n"
     ]
    }
   ],
   "source": [
    "print(response[\"choices\"][0][\"message\"][\"content\"])\n"
   ]
  },
  {
   "attachments": {},
   "cell_type": "markdown",
   "metadata": {},
   "source": [
    "# Use case in English tutoring\n",
    "\n",
    "Unfortunately I don't have any idea to judge whether GPT was giving a correct answer or not with the legal prompts. So I decided to randomly pick some English exercises from my book shelf and train it to create more exercises."
   ]
  },
  {
   "attachments": {},
   "cell_type": "markdown",
   "metadata": {},
   "source": [
    "The example below is a one-shot learning example. By providing one example to the model, it can replicate a fill in the gaps exercise in a longer paragraph format."
   ]
  },
  {
   "cell_type": "code",
   "execution_count": 14,
   "metadata": {},
   "outputs": [],
   "source": [
    "input_1 = \"You are an English teacher.\"\n",
    "input_2 = \"\"\"Please complete a fill in the gaps exercise using 'in' or 'at'. Gaps are represented with an underscore, similar to the example below:\"\"\"\n",
    "input_3 = \"\"\"\n",
    "            Example: We live _ an old house _ the end of a quiet street _ Birmingham.\n",
    "        \"\"\"\n",
    "input_4 = \"\"\"Please make it a story in a paragraph format\"\"\"\n"
   ]
  },
  {
   "cell_type": "code",
   "execution_count": 15,
   "metadata": {},
   "outputs": [
    {
     "name": "stdout",
     "output_type": "stream",
     "text": [
      "Once upon a time, a young girl named Lucy lived _ a small village _ the heart of the countryside. She spent her days _ the local school, playing with her friends _ the park, and enjoying her family's company _ their cozy home _ the edge of the woods. One day, while walking _ the forest trail, she stumbled upon a hidden door _ the side of a large oak tree. Intrigued, she opened the door and found herself _ a magical world filled with amazing creatures and enchanting landscapes. From that day on, Lucy would frequently visit this enchanting place, making lifelong friends and embarking on fantastic adventures _ this wondrous land, always remembering to return home _ time for dinner with her loving family.\n",
      "\n",
      "Fill in the gaps with 'in' or 'at':\n",
      "Once upon a time, a young girl named Lucy lived (in) a small village (in) the heart of the countryside. She spent her days (at) the local school, playing with her friends (at) the park, and enjoying her family's company (in) their cozy home (at) the edge of the woods. One day, while walking (in) the forest trail, she stumbled upon a hidden door (in) the side of a large oak tree. Intrigued, she opened the door and found herself (in) a magical world filled with amazing creatures and enchanting landscapes. From that day on, Lucy would frequently visit this enchanting place, making lifelong friends and embarking on fantastic adventures (in) this wondrous land, always remembering to return home (in) time for dinner with her loving family.\n"
     ]
    }
   ],
   "source": [
    "response = openai.ChatCompletion.create(\n",
    "    model=\"gpt-4\",\n",
    "    messages=[\n",
    "        {\"role\": \"system\", \"content\": input_1},\n",
    "        {\"role\": \"user\", \"content\": input_2},\n",
    "        {\"role\": \"assistant\",\n",
    "            \"content\": input_3},\n",
    "        {\"role\": \"user\", \"content\": input_4}\n",
    "    ]\n",
    ")\n",
    "\n",
    "print(response[\"choices\"][0][\"message\"][\"content\"])\n"
   ]
  },
  {
   "cell_type": "code",
   "execution_count": 20,
   "metadata": {},
   "outputs": [],
   "source": [
    "input_1 = \"You are an English teacher.\"\n",
    "input_2 = \"\"\"Please complete a choose the right words and phrases exercise. Similar to the example below:\"\"\"\n",
    "input_3 = \"\"\"Example :\n",
    "            Choose the words and phrases to complete these dialogues:\n",
    "            Good morning (1) Will/ Could I have two kilos of (2) potato/ potatoes and half a kilo of (3) rice/ rices?\n",
    "\"\"\"\n",
    "input_4 = \"\"\"Make 3 more choose the right words and phrases questions.\"\"\"\n"
   ]
  },
  {
   "cell_type": "code",
   "execution_count": 21,
   "metadata": {},
   "outputs": [
    {
     "name": "stdout",
     "output_type": "stream",
     "text": [
      "1. Choose the words and phrases to complete this dialogue:\n",
      "   I (1) can't/ couldn't find my (2) keys/ key last night, so I had to (3) call/ called my roommate to let me in.\n",
      "\n",
      "2. Choose the words and phrases to complete this dialogue:\n",
      "   She was (1) waiting/ waited at the bus stop when it suddenly (2) began/ begin to (3) rain/ rains heavily.\n",
      "\n",
      "3. Choose the words and phrases to complete this dialogue:\n",
      "   When I (1) arrived/ arrive home, I realized I had (2) forgotten/ forget my (3) wallet/ wallets at the office.\n"
     ]
    }
   ],
   "source": [
    "response = openai.ChatCompletion.create(\n",
    "    model=\"gpt-4\",\n",
    "    messages=[\n",
    "        {\"role\": \"system\", \"content\": input_1},\n",
    "        {\"role\": \"user\", \"content\": input_2},\n",
    "        {\"role\": \"assistant\",\n",
    "            \"content\": input_3},\n",
    "        {\"role\": \"user\", \"content\": input_4}\n",
    "    ]\n",
    ")\n",
    "\n",
    "print(response[\"choices\"][0][\"message\"][\"content\"])\n"
   ]
  },
  {
   "attachments": {},
   "cell_type": "markdown",
   "metadata": {},
   "source": [
    "Not bad, but it seems the questions are around 1. tenses 2. singular vs pural only. Let's give it more examples to learn - this is called few-shots learning."
   ]
  },
  {
   "cell_type": "code",
   "execution_count": 24,
   "metadata": {},
   "outputs": [],
   "source": [
    "input_1 = \"You are an English teacher.\"\n",
    "input_2 = \"\"\"Please complete a choose the right words and phrases exercise. Similar to the example below:\"\"\"\n",
    "input_3 = \"\"\"Example :\n",
    "            Choose the words and phrases to complete these dialogues:\n",
    "            Good morning (1) Will/ Could I have two kilos of (2) potato/ potatoes and half a kilo of (3) rice/ rices?\n",
    "            Here you are. (4) Do/ Would you like anything else?\n",
    "            Yes please. (5) Will/ Can you give me (6) any/ some apricots?\n",
    "            I'm sorry. We haven't (7) some/ any apricots left. We have (8) few / a few peaches though.\n",
    "\"\"\"\n",
    "input_4 = \"\"\"Make a choose the right words and phrases question. Also give the answers.\"\"\""
   ]
  },
  {
   "cell_type": "code",
   "execution_count": 25,
   "metadata": {},
   "outputs": [
    {
     "name": "stdout",
     "output_type": "stream",
     "text": [
      "Choose the words and phrases to complete these dialogues:\n",
      "\n",
      "1. (1) Do/ Did you participate in the (2) party/ parties last night?\n",
      "2. I didn't because (3) I've had/ I had a (4) headache/ headached.\n",
      "3. (5) What/ Which was the (6) theme/ reason of the party?\n",
      "4. The theme was (7) horror/ horrible films, and everyone (8) dressed/ wore costumes.\n",
      "\n",
      "Answers:\n",
      "1. (1) Did (2) party\n",
      "2. (3) I had (4) headache\n",
      "3. (5) What (6) theme\n",
      "4. (7) horror (8) wore\n"
     ]
    }
   ],
   "source": [
    "response = openai.ChatCompletion.create(\n",
    "    model=\"gpt-4\",\n",
    "    messages=[\n",
    "        {\"role\": \"system\", \"content\": input_1},\n",
    "        {\"role\": \"user\", \"content\": input_2},\n",
    "        {\"role\": \"assistant\",\n",
    "            \"content\": input_3},\n",
    "        {\"role\": \"user\", \"content\": input_4}\n",
    "    ]\n",
    ")\n",
    "\n",
    "print(response[\"choices\"][0][\"message\"][\"content\"])\n"
   ]
  },
  {
   "attachments": {},
   "cell_type": "markdown",
   "metadata": {},
   "source": [
    "Now, we see the model is returning more variety of questions, such as what vs which, noun vs adjective."
   ]
  },
  {
   "cell_type": "markdown",
   "metadata": {},
   "source": []
  }
 ],
 "metadata": {
  "kernelspec": {
   "display_name": "Python 3",
   "language": "python",
   "name": "python3"
  },
  "language_info": {
   "codemirror_mode": {
    "name": "ipython",
    "version": 3
   },
   "file_extension": ".py",
   "mimetype": "text/x-python",
   "name": "python",
   "nbconvert_exporter": "python",
   "pygments_lexer": "ipython3",
   "version": "3.9.12"
  },
  "orig_nbformat": 4,
  "vscode": {
   "interpreter": {
    "hash": "835a308bbc3aaf60ddcbc31c18e812e42f5ae375aa51bbb89ed079a5afd5c3dc"
   }
  }
 },
 "nbformat": 4,
 "nbformat_minor": 2
}
