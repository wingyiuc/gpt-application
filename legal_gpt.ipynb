{
 "cells": [
  {
   "attachments": {},
   "cell_type": "markdown",
   "metadata": {},
   "source": [
    "# Import libraries"
   ]
  },
  {
   "cell_type": "code",
   "execution_count": 1,
   "metadata": {},
   "outputs": [],
   "source": [
    "import os\n",
    "import openai\n",
    "from dotenv import load_dotenv\n"
   ]
  },
  {
   "cell_type": "code",
   "execution_count": 2,
   "metadata": {},
   "outputs": [
    {
     "data": {
      "text/plain": [
       "True"
      ]
     },
     "execution_count": 2,
     "metadata": {},
     "output_type": "execute_result"
    }
   ],
   "source": [
    "load_dotenv()\n"
   ]
  },
  {
   "attachments": {},
   "cell_type": "markdown",
   "metadata": {},
   "source": [
    "# API setup"
   ]
  },
  {
   "cell_type": "code",
   "execution_count": 3,
   "metadata": {},
   "outputs": [],
   "source": [
    "# Load your API key from an environment variable or secret management service\n",
    "openai.api_key = os.getenv(\"OPENAI_API_KEY\")\n"
   ]
  },
  {
   "cell_type": "code",
   "execution_count": 4,
   "metadata": {},
   "outputs": [
    {
     "name": "stdout",
     "output_type": "stream",
     "text": [
      "gpt-3.5-turbo\n",
      "gpt-3.5-turbo-0301\n"
     ]
    }
   ],
   "source": [
    "for model in openai.Model.list()['data']:\n",
    "    print(model['id']) if \"gpt\" in model['id'] else \"\"\n"
   ]
  },
  {
   "attachments": {},
   "cell_type": "markdown",
   "metadata": {},
   "source": [
    "Why is there no gpt-4?"
   ]
  },
  {
   "attachments": {},
   "cell_type": "markdown",
   "metadata": {},
   "source": [
    "## Legal prompting example"
   ]
  },
  {
   "attachments": {},
   "cell_type": "markdown",
   "metadata": {},
   "source": [
    "Reference: https://arxiv.org/abs/2212.01326\n",
    "\n",
    "Legal Prompting: Teaching a Language Model to Think Like a Lawyer"
   ]
  },
  {
   "cell_type": "code",
   "execution_count": 5,
   "metadata": {},
   "outputs": [],
   "source": [
    "response = openai.ChatCompletion.create(\n",
    "    model=\"gpt-3.5-turbo\",\n",
    "    messages=[\n",
    "        {\"role\": \"system\", \"content\": \"You are a professional lawyer.\"},\n",
    "        {\"role\": \"user\", \"content\": \"Please analyze if the hypothesis is True or False according to the given legal reasoning approach. Do not explicitly mention about the approach but give explanations.\"},\n",
    "        {\"role\": \"assistant\",\n",
    "            \"content\": \"\"\"Approach: Issue, rule, application, conclusion.\n",
    "                        Premise: Article 509 The obligor of either of the following obligations may not duly assert a set-off against the obligee\n",
    "                        provided, however, that this does not apply if the obligee acquires a claim corresponding to the relevant obligation from another person:\n",
    "                        (i) an obligation for compensation for loss or damage based on a tort committed in bad faith\n",
    "                        or\n",
    "                            (ii) an obligation for compensation for loss or damage for death or injury to person(excluding the one set forth in the preceding item).\"\"\"},\n",
    "        {\"role\": \"user\", \"content\": \"Hypothesis: If a person that holds a monetary claim has borne an obligation for compensation for loss or damage for injury to the obligor of that monetary claim, the person may not duly assert against the obligor, a set- off using the monetary claim against the obligation for compensation. True or False?\"}\n",
    "    ]\n",
    ")\n"
   ]
  },
  {
   "cell_type": "code",
   "execution_count": 6,
   "metadata": {},
   "outputs": [
    {
     "data": {
      "text/plain": [
       "'True. According to the given legal reasoning approach, Article 509 states that an obligor may not duly assert a set-off against the obligee if the obligee holds an obligation for compensation for loss or damage for injury to the obligor. Therefore, the hypothesis is true in that a person who holds a monetary claim against an obligor may not use that monetary claim to set-off against an obligation for compensation for loss or damage that they have towards the obligor.'"
      ]
     },
     "execution_count": 6,
     "metadata": {},
     "output_type": "execute_result"
    }
   ],
   "source": [
    "response[\"choices\"][0][\"message\"][\"content\"]\n"
   ]
  },
  {
   "cell_type": "code",
   "execution_count": null,
   "metadata": {},
   "outputs": [],
   "source": []
  }
 ],
 "metadata": {
  "kernelspec": {
   "display_name": "Python 3",
   "language": "python",
   "name": "python3"
  },
  "language_info": {
   "codemirror_mode": {
    "name": "ipython",
    "version": 3
   },
   "file_extension": ".py",
   "mimetype": "text/x-python",
   "name": "python",
   "nbconvert_exporter": "python",
   "pygments_lexer": "ipython3",
   "version": "3.9.12"
  },
  "orig_nbformat": 4,
  "vscode": {
   "interpreter": {
    "hash": "835a308bbc3aaf60ddcbc31c18e812e42f5ae375aa51bbb89ed079a5afd5c3dc"
   }
  }
 },
 "nbformat": 4,
 "nbformat_minor": 2
}
